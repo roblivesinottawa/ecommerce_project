{
 "cells": [
  {
   "cell_type": "code",
   "execution_count": 1,
   "metadata": {},
   "outputs": [],
   "source": [
    "import mysql.connector\n",
    "import config\n",
    "\n",
    "connection = mysql.connector.connect(**config.connection())"
   ]
  },
  {
   "cell_type": "code",
   "execution_count": 2,
   "metadata": {},
   "outputs": [],
   "source": [
    "def get_data(query):\n",
    "    '''This function returns the data from the database'''\n",
    "    cursor = connection.cursor()\n",
    "    cursor.execute(query)\n",
    "    data = cursor.fetchall()\n",
    "    return data"
   ]
  },
  {
   "cell_type": "code",
   "execution_count": 3,
   "metadata": {},
   "outputs": [
    {
     "data": {
      "text/plain": [
       "[('employees',),\n",
       " ('information_schema',),\n",
       " ('mavenfuzzyfactory',),\n",
       " ('mysql',),\n",
       " ('performance_schema',),\n",
       " ('sys',)]"
      ]
     },
     "execution_count": 3,
     "metadata": {},
     "output_type": "execute_result"
    }
   ],
   "source": [
    "get_data(\"SHOW DATABASES;\")"
   ]
  },
  {
   "cell_type": "code",
   "execution_count": 4,
   "metadata": {},
   "outputs": [
    {
     "data": {
      "text/plain": [
       "[]"
      ]
     },
     "execution_count": 4,
     "metadata": {},
     "output_type": "execute_result"
    }
   ],
   "source": [
    "get_data(\"USE mavenfuzzyfactory;\")"
   ]
  },
  {
   "cell_type": "code",
   "execution_count": 5,
   "metadata": {},
   "outputs": [
    {
     "data": {
      "text/plain": [
       "[('order_item_refunds',),\n",
       " ('order_items',),\n",
       " ('orders',),\n",
       " ('products',),\n",
       " ('website_pageviews',),\n",
       " ('website_sessions',)]"
      ]
     },
     "execution_count": 5,
     "metadata": {},
     "output_type": "execute_result"
    }
   ],
   "source": [
    "get_data(\"SHOW TABLES;\")"
   ]
  },
  {
   "cell_type": "code",
   "execution_count": 27,
   "metadata": {},
   "outputs": [
    {
     "name": "stdout",
     "output_type": "stream",
     "text": [
      "[(1, datetime.datetime(2012, 3, 19, 10, 42, 46), 20, 20, 1, 1, Decimal('49.99'), Decimal('19.49')), (2, datetime.datetime(2012, 3, 19, 19, 27, 37), 104, 104, 1, 1, Decimal('49.99'), Decimal('19.49')), (3, datetime.datetime(2012, 3, 20, 6, 44, 45), 147, 147, 1, 1, Decimal('49.99'), Decimal('19.49')), (4, datetime.datetime(2012, 3, 20, 9, 41, 45), 160, 160, 1, 1, Decimal('49.99'), Decimal('19.49')), (5, datetime.datetime(2012, 3, 20, 11, 28, 15), 177, 177, 1, 1, Decimal('49.99'), Decimal('19.49'))]\n"
     ]
    }
   ],
   "source": [
    "print(get_data('SELECT * FROM mavenfuzzyfactory.orders LIMIT 5;'))"
   ]
  },
  {
   "cell_type": "code",
   "execution_count": 7,
   "metadata": {},
   "outputs": [],
   "source": [
    "import pandas as pd\n",
    "import numpy as np"
   ]
  },
  {
   "cell_type": "code",
   "execution_count": 8,
   "metadata": {},
   "outputs": [
    {
     "name": "stderr",
     "output_type": "stream",
     "text": [
      "/Library/Frameworks/Python.framework/Versions/3.10/lib/python3.10/site-packages/pandas/io/sql.py:758: UserWarning: pandas only support SQLAlchemy connectable(engine/connection) ordatabase string URI or sqlite3 DBAPI2 connectionother DBAPI2 objects are not tested, please consider using SQLAlchemy\n",
      "  warnings.warn(\n"
     ]
    }
   ],
   "source": [
    "df = pd.read_sql('SELECT * FROM mavenfuzzyfactory.orders;', con=connection)"
   ]
  },
  {
   "cell_type": "code",
   "execution_count": 9,
   "metadata": {},
   "outputs": [
    {
     "data": {
      "text/html": [
       "<div>\n",
       "<style scoped>\n",
       "    .dataframe tbody tr th:only-of-type {\n",
       "        vertical-align: middle;\n",
       "    }\n",
       "\n",
       "    .dataframe tbody tr th {\n",
       "        vertical-align: top;\n",
       "    }\n",
       "\n",
       "    .dataframe thead th {\n",
       "        text-align: right;\n",
       "    }\n",
       "</style>\n",
       "<table border=\"1\" class=\"dataframe\">\n",
       "  <thead>\n",
       "    <tr style=\"text-align: right;\">\n",
       "      <th></th>\n",
       "      <th>order_id</th>\n",
       "      <th>created_at</th>\n",
       "      <th>website_session_id</th>\n",
       "      <th>user_id</th>\n",
       "      <th>primary_product_id</th>\n",
       "      <th>items_purchased</th>\n",
       "      <th>price_usd</th>\n",
       "      <th>cogs_usd</th>\n",
       "    </tr>\n",
       "  </thead>\n",
       "  <tbody>\n",
       "    <tr>\n",
       "      <th>0</th>\n",
       "      <td>1</td>\n",
       "      <td>2012-03-19 10:42:46</td>\n",
       "      <td>20</td>\n",
       "      <td>20</td>\n",
       "      <td>1</td>\n",
       "      <td>1</td>\n",
       "      <td>49.99</td>\n",
       "      <td>19.49</td>\n",
       "    </tr>\n",
       "    <tr>\n",
       "      <th>1</th>\n",
       "      <td>2</td>\n",
       "      <td>2012-03-19 19:27:37</td>\n",
       "      <td>104</td>\n",
       "      <td>104</td>\n",
       "      <td>1</td>\n",
       "      <td>1</td>\n",
       "      <td>49.99</td>\n",
       "      <td>19.49</td>\n",
       "    </tr>\n",
       "    <tr>\n",
       "      <th>2</th>\n",
       "      <td>3</td>\n",
       "      <td>2012-03-20 06:44:45</td>\n",
       "      <td>147</td>\n",
       "      <td>147</td>\n",
       "      <td>1</td>\n",
       "      <td>1</td>\n",
       "      <td>49.99</td>\n",
       "      <td>19.49</td>\n",
       "    </tr>\n",
       "    <tr>\n",
       "      <th>3</th>\n",
       "      <td>4</td>\n",
       "      <td>2012-03-20 09:41:45</td>\n",
       "      <td>160</td>\n",
       "      <td>160</td>\n",
       "      <td>1</td>\n",
       "      <td>1</td>\n",
       "      <td>49.99</td>\n",
       "      <td>19.49</td>\n",
       "    </tr>\n",
       "    <tr>\n",
       "      <th>4</th>\n",
       "      <td>5</td>\n",
       "      <td>2012-03-20 11:28:15</td>\n",
       "      <td>177</td>\n",
       "      <td>177</td>\n",
       "      <td>1</td>\n",
       "      <td>1</td>\n",
       "      <td>49.99</td>\n",
       "      <td>19.49</td>\n",
       "    </tr>\n",
       "    <tr>\n",
       "      <th>5</th>\n",
       "      <td>6</td>\n",
       "      <td>2012-03-20 16:12:47</td>\n",
       "      <td>232</td>\n",
       "      <td>232</td>\n",
       "      <td>1</td>\n",
       "      <td>1</td>\n",
       "      <td>49.99</td>\n",
       "      <td>19.49</td>\n",
       "    </tr>\n",
       "    <tr>\n",
       "      <th>6</th>\n",
       "      <td>7</td>\n",
       "      <td>2012-03-20 17:03:41</td>\n",
       "      <td>241</td>\n",
       "      <td>241</td>\n",
       "      <td>1</td>\n",
       "      <td>1</td>\n",
       "      <td>49.99</td>\n",
       "      <td>19.49</td>\n",
       "    </tr>\n",
       "    <tr>\n",
       "      <th>7</th>\n",
       "      <td>8</td>\n",
       "      <td>2012-03-20 23:35:27</td>\n",
       "      <td>295</td>\n",
       "      <td>295</td>\n",
       "      <td>1</td>\n",
       "      <td>1</td>\n",
       "      <td>49.99</td>\n",
       "      <td>19.49</td>\n",
       "    </tr>\n",
       "    <tr>\n",
       "      <th>8</th>\n",
       "      <td>9</td>\n",
       "      <td>2012-03-21 02:35:01</td>\n",
       "      <td>304</td>\n",
       "      <td>304</td>\n",
       "      <td>1</td>\n",
       "      <td>1</td>\n",
       "      <td>49.99</td>\n",
       "      <td>19.49</td>\n",
       "    </tr>\n",
       "    <tr>\n",
       "      <th>9</th>\n",
       "      <td>10</td>\n",
       "      <td>2012-03-21 06:45:58</td>\n",
       "      <td>317</td>\n",
       "      <td>317</td>\n",
       "      <td>1</td>\n",
       "      <td>1</td>\n",
       "      <td>49.99</td>\n",
       "      <td>19.49</td>\n",
       "    </tr>\n",
       "  </tbody>\n",
       "</table>\n",
       "</div>"
      ],
      "text/plain": [
       "   order_id          created_at  website_session_id  user_id  \\\n",
       "0         1 2012-03-19 10:42:46                  20       20   \n",
       "1         2 2012-03-19 19:27:37                 104      104   \n",
       "2         3 2012-03-20 06:44:45                 147      147   \n",
       "3         4 2012-03-20 09:41:45                 160      160   \n",
       "4         5 2012-03-20 11:28:15                 177      177   \n",
       "5         6 2012-03-20 16:12:47                 232      232   \n",
       "6         7 2012-03-20 17:03:41                 241      241   \n",
       "7         8 2012-03-20 23:35:27                 295      295   \n",
       "8         9 2012-03-21 02:35:01                 304      304   \n",
       "9        10 2012-03-21 06:45:58                 317      317   \n",
       "\n",
       "   primary_product_id  items_purchased  price_usd  cogs_usd  \n",
       "0                   1                1      49.99     19.49  \n",
       "1                   1                1      49.99     19.49  \n",
       "2                   1                1      49.99     19.49  \n",
       "3                   1                1      49.99     19.49  \n",
       "4                   1                1      49.99     19.49  \n",
       "5                   1                1      49.99     19.49  \n",
       "6                   1                1      49.99     19.49  \n",
       "7                   1                1      49.99     19.49  \n",
       "8                   1                1      49.99     19.49  \n",
       "9                   1                1      49.99     19.49  "
      ]
     },
     "execution_count": 9,
     "metadata": {},
     "output_type": "execute_result"
    }
   ],
   "source": [
    "df.head(10)"
   ]
  },
  {
   "cell_type": "code",
   "execution_count": 10,
   "metadata": {},
   "outputs": [
    {
     "data": {
      "text/plain": [
       "count    32313.000000\n",
       "mean        59.991636\n",
       "std         17.808771\n",
       "min         29.990000\n",
       "25%         49.990000\n",
       "50%         49.990000\n",
       "75%         59.990000\n",
       "max        109.980000\n",
       "Name: price_usd, dtype: float64"
      ]
     },
     "execution_count": 10,
     "metadata": {},
     "output_type": "execute_result"
    }
   ],
   "source": [
    "df.price_usd.describe()"
   ]
  },
  {
   "cell_type": "code",
   "execution_count": 20,
   "metadata": {},
   "outputs": [
    {
     "data": {
      "text/html": [
       "<div>\n",
       "<style scoped>\n",
       "    .dataframe tbody tr th:only-of-type {\n",
       "        vertical-align: middle;\n",
       "    }\n",
       "\n",
       "    .dataframe tbody tr th {\n",
       "        vertical-align: top;\n",
       "    }\n",
       "\n",
       "    .dataframe thead th {\n",
       "        text-align: right;\n",
       "    }\n",
       "</style>\n",
       "<table border=\"1\" class=\"dataframe\">\n",
       "  <thead>\n",
       "    <tr style=\"text-align: right;\">\n",
       "      <th></th>\n",
       "      <th>order_id</th>\n",
       "      <th>website_session_id</th>\n",
       "      <th>user_id</th>\n",
       "      <th>primary_product_id</th>\n",
       "      <th>items_purchased</th>\n",
       "      <th>price_usd</th>\n",
       "      <th>cogs_usd</th>\n",
       "    </tr>\n",
       "  </thead>\n",
       "  <tbody>\n",
       "    <tr>\n",
       "      <th>count</th>\n",
       "      <td>32313.000000</td>\n",
       "      <td>32313.000000</td>\n",
       "      <td>32313.000000</td>\n",
       "      <td>32313.000000</td>\n",
       "      <td>32313.000000</td>\n",
       "      <td>32313.000000</td>\n",
       "      <td>32313.000000</td>\n",
       "    </tr>\n",
       "    <tr>\n",
       "      <th>mean</th>\n",
       "      <td>16157.000000</td>\n",
       "      <td>258292.288707</td>\n",
       "      <td>215691.622629</td>\n",
       "      <td>1.392474</td>\n",
       "      <td>1.238666</td>\n",
       "      <td>59.991636</td>\n",
       "      <td>22.355406</td>\n",
       "    </tr>\n",
       "    <tr>\n",
       "      <th>std</th>\n",
       "      <td>9328.103961</td>\n",
       "      <td>132427.649842</td>\n",
       "      <td>108402.203189</td>\n",
       "      <td>0.732277</td>\n",
       "      <td>0.426274</td>\n",
       "      <td>17.808771</td>\n",
       "      <td>6.238621</td>\n",
       "    </tr>\n",
       "    <tr>\n",
       "      <th>min</th>\n",
       "      <td>1.000000</td>\n",
       "      <td>20.000000</td>\n",
       "      <td>13.000000</td>\n",
       "      <td>1.000000</td>\n",
       "      <td>1.000000</td>\n",
       "      <td>29.990000</td>\n",
       "      <td>9.490000</td>\n",
       "    </tr>\n",
       "    <tr>\n",
       "      <th>25%</th>\n",
       "      <td>8079.000000</td>\n",
       "      <td>144828.000000</td>\n",
       "      <td>124135.000000</td>\n",
       "      <td>1.000000</td>\n",
       "      <td>1.000000</td>\n",
       "      <td>49.990000</td>\n",
       "      <td>19.490000</td>\n",
       "    </tr>\n",
       "    <tr>\n",
       "      <th>50%</th>\n",
       "      <td>16157.000000</td>\n",
       "      <td>263554.000000</td>\n",
       "      <td>221461.000000</td>\n",
       "      <td>1.000000</td>\n",
       "      <td>1.000000</td>\n",
       "      <td>49.990000</td>\n",
       "      <td>19.490000</td>\n",
       "    </tr>\n",
       "    <tr>\n",
       "      <th>75%</th>\n",
       "      <td>24235.000000</td>\n",
       "      <td>374799.000000</td>\n",
       "      <td>310542.000000</td>\n",
       "      <td>2.000000</td>\n",
       "      <td>1.000000</td>\n",
       "      <td>59.990000</td>\n",
       "      <td>22.490000</td>\n",
       "    </tr>\n",
       "    <tr>\n",
       "      <th>max</th>\n",
       "      <td>32313.000000</td>\n",
       "      <td>472818.000000</td>\n",
       "      <td>394273.000000</td>\n",
       "      <td>4.000000</td>\n",
       "      <td>2.000000</td>\n",
       "      <td>109.980000</td>\n",
       "      <td>41.980000</td>\n",
       "    </tr>\n",
       "  </tbody>\n",
       "</table>\n",
       "</div>"
      ],
      "text/plain": [
       "           order_id  website_session_id        user_id  primary_product_id  \\\n",
       "count  32313.000000        32313.000000   32313.000000        32313.000000   \n",
       "mean   16157.000000       258292.288707  215691.622629            1.392474   \n",
       "std     9328.103961       132427.649842  108402.203189            0.732277   \n",
       "min        1.000000           20.000000      13.000000            1.000000   \n",
       "25%     8079.000000       144828.000000  124135.000000            1.000000   \n",
       "50%    16157.000000       263554.000000  221461.000000            1.000000   \n",
       "75%    24235.000000       374799.000000  310542.000000            2.000000   \n",
       "max    32313.000000       472818.000000  394273.000000            4.000000   \n",
       "\n",
       "       items_purchased     price_usd      cogs_usd  \n",
       "count     32313.000000  32313.000000  32313.000000  \n",
       "mean          1.238666     59.991636     22.355406  \n",
       "std           0.426274     17.808771      6.238621  \n",
       "min           1.000000     29.990000      9.490000  \n",
       "25%           1.000000     49.990000     19.490000  \n",
       "50%           1.000000     49.990000     19.490000  \n",
       "75%           1.000000     59.990000     22.490000  \n",
       "max           2.000000    109.980000     41.980000  "
      ]
     },
     "execution_count": 20,
     "metadata": {},
     "output_type": "execute_result"
    }
   ],
   "source": [
    "df.describe()"
   ]
  },
  {
   "cell_type": "code",
   "execution_count": 21,
   "metadata": {},
   "outputs": [
    {
     "name": "stdout",
     "output_type": "stream",
     "text": [
      "<class 'pandas.core.frame.DataFrame'>\n",
      "RangeIndex: 32313 entries, 0 to 32312\n",
      "Data columns (total 8 columns):\n",
      " #   Column              Non-Null Count  Dtype         \n",
      "---  ------              --------------  -----         \n",
      " 0   order_id            32313 non-null  int64         \n",
      " 1   created_at          32313 non-null  datetime64[ns]\n",
      " 2   website_session_id  32313 non-null  int64         \n",
      " 3   user_id             32313 non-null  int64         \n",
      " 4   primary_product_id  32313 non-null  int64         \n",
      " 5   items_purchased     32313 non-null  int64         \n",
      " 6   price_usd           32313 non-null  float64       \n",
      " 7   cogs_usd            32313 non-null  float64       \n",
      "dtypes: datetime64[ns](1), float64(2), int64(5)\n",
      "memory usage: 2.0 MB\n"
     ]
    }
   ],
   "source": [
    "df.info()"
   ]
  },
  {
   "cell_type": "code",
   "execution_count": 22,
   "metadata": {},
   "outputs": [
    {
     "data": {
      "text/plain": [
       "order_id              0\n",
       "created_at            0\n",
       "website_session_id    0\n",
       "user_id               0\n",
       "primary_product_id    0\n",
       "items_purchased       0\n",
       "price_usd             0\n",
       "cogs_usd              0\n",
       "dtype: int64"
      ]
     },
     "execution_count": 22,
     "metadata": {},
     "output_type": "execute_result"
    }
   ],
   "source": [
    "df.isnull().sum()"
   ]
  },
  {
   "cell_type": "code",
   "execution_count": 24,
   "metadata": {},
   "outputs": [
    {
     "data": {
      "text/plain": [
       "Index(['order_id', 'created_at', 'website_session_id', 'user_id',\n",
       "       'primary_product_id', 'items_purchased', 'price_usd', 'cogs_usd'],\n",
       "      dtype='object')"
      ]
     },
     "execution_count": 24,
     "metadata": {},
     "output_type": "execute_result"
    }
   ],
   "source": [
    "df.columns"
   ]
  },
  {
   "cell_type": "code",
   "execution_count": 25,
   "metadata": {},
   "outputs": [
    {
     "data": {
      "text/plain": [
       "1        1\n",
       "21538    1\n",
       "21551    1\n",
       "21550    1\n",
       "21549    1\n",
       "        ..\n",
       "10768    1\n",
       "10767    1\n",
       "10766    1\n",
       "10765    1\n",
       "32313    1\n",
       "Name: order_id, Length: 32313, dtype: int64"
      ]
     },
     "execution_count": 25,
     "metadata": {},
     "output_type": "execute_result"
    }
   ],
   "source": [
    "df.order_id.value_counts()"
   ]
  },
  {
   "cell_type": "code",
   "execution_count": 26,
   "metadata": {},
   "outputs": [
    {
     "data": {
      "text/plain": [
       "32313"
      ]
     },
     "execution_count": 26,
     "metadata": {},
     "output_type": "execute_result"
    }
   ],
   "source": [
    "len(df)"
   ]
  },
  {
   "cell_type": "code",
   "execution_count": 11,
   "metadata": {},
   "outputs": [
    {
     "data": {
      "text/plain": [
       "<AxesSubplot:ylabel='Frequency'>"
      ]
     },
     "execution_count": 11,
     "metadata": {},
     "output_type": "execute_result"
    },
    {
     "data": {
      "image/png": "[encoded data removed]",
      "text/plain": [
       "<Figure size 432x288 with 1 Axes>"
      ]
     },
     "metadata": {
      "needs_background": "light"
     },
     "output_type": "display_data"
    }
   ],
   "source": [
    "df.price_usd.plot(kind='hist')"
   ]
  },
  {
   "cell_type": "code",
   "execution_count": 13,
   "metadata": {},
   "outputs": [],
   "source": [
    "import seaborn as sns"
   ]
  },
  {
   "cell_type": "code",
   "execution_count": 14,
   "metadata": {},
   "outputs": [
    {
     "data": {
      "text/plain": [
       "<seaborn.axisgrid.FacetGrid at 0x10e2c3610>"
      ]
     },
     "execution_count": 14,
     "metadata": {},
     "output_type": "execute_result"
    },
    {
     "data": {
      "image/png": "[encoded data removed]",
      "text/plain": [
       "<Figure size 360x360 with 1 Axes>"
      ]
     },
     "metadata": {
      "needs_background": "light"
     },
     "output_type": "display_data"
    }
   ],
   "source": [
    "sns.displot(df.price_usd)"
   ]
  },
  {
   "cell_type": "code",
   "execution_count": 15,
   "metadata": {},
   "outputs": [
    {
     "data": {
      "text/plain": [
       "<AxesSubplot:xlabel='price_usd', ylabel='Density'>"
      ]
     },
     "execution_count": 15,
     "metadata": {},
     "output_type": "execute_result"
    },
    {
     "data": {
      "image/png": "[encoded data removed]",
      "text/plain": [
       "<Figure size 432x288 with 1 Axes>"
      ]
     },
     "metadata": {
      "needs_background": "light"
     },
     "output_type": "display_data"
    }
   ],
   "source": [
    "sns.kdeplot(df.price_usd)"
   ]
  },
  {
   "cell_type": "code",
   "execution_count": 18,
   "metadata": {},
   "outputs": [
    {
     "data": {
      "text/plain": [
       "<AxesSubplot:>"
      ]
     },
     "execution_count": 18,
     "metadata": {},
     "output_type": "execute_result"
    },
    {
     "data": {
      "image/png": "[encoded data removed]",
      "text/plain": [
       "<Figure size 432x288 with 1 Axes>"
      ]
     },
     "metadata": {
      "needs_background": "light"
     },
     "output_type": "display_data"
    }
   ],
   "source": [
    "sns.boxplot(data = df.price_usd)"
   ]
  },
  {
   "cell_type": "code",
   "execution_count": 19,
   "metadata": {},
   "outputs": [
    {
     "data": {
      "text/plain": [
       "<AxesSubplot:xlabel='price_usd', ylabel='Count'>"
      ]
     },
     "execution_count": 19,
     "metadata": {},
     "output_type": "execute_result"
    },
    {
     "data": {
      "image/png": "[encoded data removed]",
      "text/plain": [
       "<Figure size 432x288 with 1 Axes>"
      ]
     },
     "metadata": {
      "needs_background": "light"
     },
     "output_type": "display_data"
    }
   ],
   "source": [
    "sns.histplot(data = df.price_usd)"
   ]
  },
  {
   "cell_type": "markdown",
   "metadata": {},
   "source": [
    "TASK 1: see a breakdown of utm source, campaign and referring domain until 2012-04-12"
   ]
  },
  {
   "cell_type": "code",
   "execution_count": 30,
   "metadata": {},
   "outputs": [
    {
     "name": "stderr",
     "output_type": "stream",
     "text": [
      "/Library/Frameworks/Python.framework/Versions/3.10/lib/python3.10/site-packages/pandas/io/sql.py:758: UserWarning: pandas only support SQLAlchemy connectable(engine/connection) ordatabase string URI or sqlite3 DBAPI2 connectionother DBAPI2 objects are not tested, please consider using SQLAlchemy\n",
      "  warnings.warn(\n"
     ]
    },
    {
     "name": "stdout",
     "output_type": "stream",
     "text": [
      "  utm_source utm_campaign             http_referer  sessions\n",
      "0    gsearch     nonbrand  https://www.gsearch.com      3613\n",
      "1       None         None                     None        28\n",
      "2       None         None  https://www.gsearch.com        27\n",
      "3    gsearch        brand  https://www.gsearch.com        26\n",
      "4       None         None  https://www.bsearch.com         7\n",
      "5    bsearch        brand  https://www.bsearch.com         7\n"
     ]
    }
   ],
   "source": [
    "df = pd.read_sql('''\n",
    "            SELECT\n",
    "                utm_source, utm_campaign, http_referer,\n",
    "                COUNT(DISTINCT website_session_id) AS sessions\n",
    "            FROM website_sessions\n",
    "            WHERE created_at < '2012-04-12'\n",
    "            GROUP BY 1, 2, 3\n",
    "            ORDER BY 4 DESC;\n",
    "\n",
    "          ''', con=connection)\n",
    "\n",
    "print(df)"
   ]
  },
  {
   "cell_type": "code",
   "execution_count": 32,
   "metadata": {},
   "outputs": [
    {
     "name": "stderr",
     "output_type": "stream",
     "text": [
      "/Library/Frameworks/Python.framework/Versions/3.10/lib/python3.10/site-packages/pandas/io/sql.py:758: UserWarning: pandas only support SQLAlchemy connectable(engine/connection) ordatabase string URI or sqlite3 DBAPI2 connectionother DBAPI2 objects are not tested, please consider using SQLAlchemy\n",
      "  warnings.warn(\n"
     ]
    },
    {
     "name": "stdout",
     "output_type": "stream",
     "text": [
      "   sessions  orders  session_to_order_conv_rt\n",
      "0      3895     112                   34.7768\n"
     ]
    }
   ],
   "source": [
    "conv_rate_df = pd.read_sql(\n",
    "        '''\n",
    "             select \n",
    "                count(distinct ws.website_session_id) AS sessions, \n",
    "                count(distinct o.order_id) as orders,\n",
    "                count(distinct ws.website_session_id) / count(distinct o.order_id) as session_to_order_conv_rt\n",
    "            from \n",
    "                website_sessions ws\n",
    "            left join \n",
    "                orders o \n",
    "            on \n",
    "                o.website_session_id = ws.website_session_id \n",
    "            where ws.created_at < '2012-04-14' \n",
    "            and utm_source = 'gsearch' \n",
    "            and utm_campaign = 'nonbrand';\n",
    "\n",
    "          ''', con=connection)\n",
    "\n",
    "print(conv_rate_df)\n"
   ]
  },
  {
   "cell_type": "code",
   "execution_count": null,
   "metadata": {},
   "outputs": [],
   "source": []
  }
 ],
 "metadata": {
  "interpreter": {
   "hash": "aee8b7b246df8f9039afb4144a1f6fd8d2ca17a180786b69acc140d282b71a49"
  },
  "kernelspec": {
   "display_name": "Python 3.10.2 64-bit",
   "language": "python",
   "name": "python3"
  },
  "language_info": {
   "codemirror_mode": {
    "name": "ipython",
    "version": 3
   },
   "file_extension": ".py",
   "mimetype": "text/x-python",
   "name": "python",
   "nbconvert_exporter": "python",
   "pygments_lexer": "ipython3",
   "version": "3.10.2"
  },
  "orig_nbformat": 4
 },
 "nbformat": 4,
 "nbformat_minor": 2
}
