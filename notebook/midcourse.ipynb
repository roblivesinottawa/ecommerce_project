{
 "cells": [
  {
   "cell_type": "code",
   "execution_count": 8,
   "metadata": {},
   "outputs": [],
   "source": [
    "import sqlalchemy\n",
    "from sqlalchemy import create_engine\n",
    "import pandas as pd"
   ]
  },
  {
   "cell_type": "code",
   "execution_count": 9,
   "metadata": {},
   "outputs": [
    {
     "name": "stdout",
     "output_type": "stream",
     "text": [
      "CONNECTION TO THE localhost FOR USER root SUCCESSFULLY ESTABLISHED.\n"
     ]
    }
   ],
   "source": [
    "user = 'root'\n",
    "password = input('please, enter mysql password: ')\n",
    "host = 'localhost'\n",
    "port = 3306\n",
    "database = 'mavenfuzzyfactory'\n",
    "\n",
    "def get_connected():\n",
    "    engine = create_engine('mysql+mysqlconnector://{}:{}@{}:{}/{}'.format(user, password, host, port, database))\n",
    "    return engine.connect()\n",
    "\n",
    "if __name__==\"__main__\":\n",
    "    try:\n",
    "        engine = get_connected()\n",
    "        print(f\"CONNECTION TO THE {host} FOR USER {user} SUCCESSFULLY ESTABLISHED.\")\n",
    "    except Exception as e:\n",
    "        print(\"CONNECTION COULD NOT BE ESTABLISHED DUE TO THE FOLLOWING ERROR: \\n\", e)"
   ]
  },
  {
   "cell_type": "markdown",
   "metadata": {},
   "source": [
    "1.\tGsearch seems to be the biggest driver of our business. Could you pull monthly \n",
    "trends for gsearch sessions and orders so that we can showcase the growth there? "
   ]
  },
  {
   "cell_type": "code",
   "execution_count": 16,
   "metadata": {},
   "outputs": [
    {
     "data": {
      "text/plain": [
       "[(2012, 3, 1860, 60, Decimal('0.0323')),\n",
       " (2012, 4, 3574, 92, Decimal('0.0257')),\n",
       " (2012, 5, 3410, 97, Decimal('0.0284')),\n",
       " (2012, 6, 3578, 121, Decimal('0.0338')),\n",
       " (2012, 7, 3811, 145, Decimal('0.0380')),\n",
       " (2012, 8, 4877, 184, Decimal('0.0377')),\n",
       " (2012, 9, 4491, 188, Decimal('0.0419')),\n",
       " (2012, 10, 5534, 234, Decimal('0.0423')),\n",
       " (2012, 11, 8889, 373, Decimal('0.0420'))]"
      ]
     },
     "execution_count": 16,
     "metadata": {},
     "output_type": "execute_result"
    }
   ],
   "source": [
    "query = '''\n",
    "SELECT\n",
    "\tYEAR(ws.created_at) AS year, \n",
    "    MONTH(ws.created_at) AS month, \n",
    "    COUNT(DISTINCT ws.website_session_id) AS sessions, \n",
    "    COUNT(DISTINCT o.order_id) AS orders, \n",
    "    COUNT(DISTINCT o.order_id)/COUNT(DISTINCT ws.website_session_id) AS conversion_rate\n",
    "FROM website_sessions ws\n",
    "\tLEFT JOIN orders o\n",
    "\t\tON o.website_session_id = ws.website_session_id\n",
    "WHERE ws.created_at < '2012-11-27'\n",
    "\tAND ws.utm_source = 'gsearch'\n",
    "GROUP BY 1,2;'''\n",
    "\n",
    "engine.execute(query).fetchall()\n"
   ]
  },
  {
   "cell_type": "code",
   "execution_count": 17,
   "metadata": {},
   "outputs": [
    {
     "name": "stdout",
     "output_type": "stream",
     "text": [
      "   year  month  sessions  orders  conversion_rate\n",
      "0  2012      3      1860      60           0.0323\n",
      "1  2012      4      3574      92           0.0257\n",
      "2  2012      5      3410      97           0.0284\n",
      "3  2012      6      3578     121           0.0338\n",
      "4  2012      7      3811     145           0.0380\n",
      "5  2012      8      4877     184           0.0377\n",
      "6  2012      9      4491     188           0.0419\n",
      "7  2012     10      5534     234           0.0423\n",
      "8  2012     11      8889     373           0.0420\n"
     ]
    }
   ],
   "source": [
    "df = pd.read_sql(query, engine)\n",
    "print(df)"
   ]
  },
  {
   "cell_type": "code",
   "execution_count": null,
   "metadata": {},
   "outputs": [],
   "source": []
  },
  {
   "cell_type": "code",
   "execution_count": null,
   "metadata": {},
   "outputs": [],
   "source": []
  }
 ],
 "metadata": {
  "interpreter": {
   "hash": "aee8b7b246df8f9039afb4144a1f6fd8d2ca17a180786b69acc140d282b71a49"
  },
  "kernelspec": {
   "display_name": "Python 3.10.2 64-bit",
   "language": "python",
   "name": "python3"
  },
  "language_info": {
   "codemirror_mode": {
    "name": "ipython",
    "version": 3
   },
   "file_extension": ".py",
   "mimetype": "text/x-python",
   "name": "python",
   "nbconvert_exporter": "python",
   "pygments_lexer": "ipython3",
   "version": "3.10.2"
  },
  "orig_nbformat": 4
 },
 "nbformat": 4,
 "nbformat_minor": 2
}
