{
 "cells": [
  {
   "cell_type": "code",
   "execution_count": 1,
   "metadata": {},
   "outputs": [],
   "source": [
    "import sqlalchemy\n",
    "from sqlalchemy import create_engine\n",
    "import pandas as pd"
   ]
  },
  {
   "cell_type": "code",
   "execution_count": 2,
   "metadata": {},
   "outputs": [
    {
     "name": "stdout",
     "output_type": "stream",
     "text": [
      "CONNECTION TO THE localhost FOR USER root SUCCESSFULLY ESTABLISHED.\n"
     ]
    }
   ],
   "source": [
    "user = 'root'\n",
    "password = input('please, enter mysql password: ')\n",
    "host = 'localhost'\n",
    "port = 3306\n",
    "database = 'mavenfuzzyfactory'\n",
    "\n",
    "def get_connected():\n",
    "    engine = create_engine('mysql+mysqlconnector://{}:{}@{}:{}/{}'.format(user, password, host, port, database))\n",
    "    return engine.connect()\n",
    "\n",
    "if __name__==\"__main__\":\n",
    "    try:\n",
    "        engine = get_connected()\n",
    "        print(f\"CONNECTION TO THE {host} FOR USER {user} SUCCESSFULLY ESTABLISHED.\")\n",
    "    except Exception as e:\n",
    "        print(\"CONNECTION COULD NOT BE ESTABLISHED DUE TO THE FOLLOWING ERROR: \\n\", e)"
   ]
  },
  {
   "cell_type": "markdown",
   "metadata": {},
   "source": [
    "1.\tGsearch seems to be the biggest driver of our business. Could you pull monthly \n",
    "trends for gsearch sessions and orders so that we can showcase the growth there? "
   ]
  },
  {
   "cell_type": "code",
   "execution_count": 3,
   "metadata": {},
   "outputs": [
    {
     "data": {
      "text/plain": [
       "[(2012, 3, 1860, 60, Decimal('0.0323')),\n",
       " (2012, 4, 3574, 92, Decimal('0.0257')),\n",
       " (2012, 5, 3410, 97, Decimal('0.0284')),\n",
       " (2012, 6, 3578, 121, Decimal('0.0338')),\n",
       " (2012, 7, 3811, 145, Decimal('0.0380')),\n",
       " (2012, 8, 4877, 184, Decimal('0.0377')),\n",
       " (2012, 9, 4491, 188, Decimal('0.0419')),\n",
       " (2012, 10, 5534, 234, Decimal('0.0423')),\n",
       " (2012, 11, 8889, 373, Decimal('0.0420'))]"
      ]
     },
     "execution_count": 3,
     "metadata": {},
     "output_type": "execute_result"
    }
   ],
   "source": [
    "query = '''\n",
    "SELECT\n",
    "\tYEAR(ws.created_at) AS year, \n",
    "    MONTH(ws.created_at) AS month, \n",
    "    COUNT(DISTINCT ws.website_session_id) AS sessions, \n",
    "    COUNT(DISTINCT o.order_id) AS orders, \n",
    "    COUNT(DISTINCT o.order_id)/COUNT(DISTINCT ws.website_session_id) AS conversion_rate\n",
    "FROM website_sessions ws\n",
    "\tLEFT JOIN orders o\n",
    "\t\tON o.website_session_id = ws.website_session_id\n",
    "WHERE ws.created_at < '2012-11-27'\n",
    "\tAND ws.utm_source = 'gsearch'\n",
    "GROUP BY 1,2;'''\n",
    "\n",
    "engine.execute(query).fetchall()\n"
   ]
  },
  {
   "cell_type": "code",
   "execution_count": 4,
   "metadata": {},
   "outputs": [
    {
     "name": "stdout",
     "output_type": "stream",
     "text": [
      "   year  month  sessions  orders  conversion_rate\n",
      "0  2012      3      1860      60           0.0323\n",
      "1  2012      4      3574      92           0.0257\n",
      "2  2012      5      3410      97           0.0284\n",
      "3  2012      6      3578     121           0.0338\n",
      "4  2012      7      3811     145           0.0380\n",
      "5  2012      8      4877     184           0.0377\n",
      "6  2012      9      4491     188           0.0419\n",
      "7  2012     10      5534     234           0.0423\n",
      "8  2012     11      8889     373           0.0420\n"
     ]
    }
   ],
   "source": [
    "df = pd.read_sql(query, engine)\n",
    "print(df)"
   ]
  },
  {
   "cell_type": "markdown",
   "metadata": {},
   "source": [
    "2.\tNext, it would be great to see a similar monthly trend for Gsearch, but this time splitting out nonbrand \n",
    "and brand campaigns separately. I am wondering if brand is picking up at all. If so, this is a good story to tell. \n"
   ]
  },
  {
   "cell_type": "code",
   "execution_count": 5,
   "metadata": {},
   "outputs": [
    {
     "data": {
      "text/plain": [
       "[(2012, 3, 1852, 60, 8, 0),\n",
       " (2012, 4, 3509, 86, 65, 6),\n",
       " (2012, 5, 3295, 91, 115, 6),\n",
       " (2012, 6, 3439, 114, 139, 7),\n",
       " (2012, 7, 3660, 136, 151, 9),\n",
       " (2012, 8, 4673, 174, 204, 10),\n",
       " (2012, 9, 4227, 172, 264, 16),\n",
       " (2012, 10, 5197, 219, 337, 15),\n",
       " (2012, 11, 8506, 356, 383, 17)]"
      ]
     },
     "execution_count": 5,
     "metadata": {},
     "output_type": "execute_result"
    }
   ],
   "source": [
    "query = '''\n",
    "SELECT\n",
    "\tYEAR(ws.created_at) AS year, \n",
    "    MONTH(ws.created_at) AS month, \n",
    "    COUNT(DISTINCT CASE WHEN utm_campaign = 'nonbrand' \n",
    "                    THEN ws.website_session_id \n",
    "                    ELSE NULL END) AS nonbrand_sessions, \n",
    "    COUNT(DISTINCT CASE WHEN utm_campaign = 'nonbrand' \n",
    "                    THEN o.order_id \n",
    "                    ELSE NULL END) AS nonbrand_orders,\n",
    "    COUNT(DISTINCT CASE WHEN utm_campaign = 'brand' \n",
    "                    THEN ws.website_session_id \n",
    "                    ELSE NULL END) AS brand_sessions, \n",
    "    COUNT(DISTINCT CASE WHEN utm_campaign = 'brand' \n",
    "                    THEN o.order_id \n",
    "                    ELSE NULL END) AS brand_orders\n",
    "FROM website_sessions ws\n",
    "\tLEFT JOIN orders o\n",
    "\t\tON o.website_session_id = ws.website_session_id\n",
    "WHERE ws.created_at < '2012-11-27'\n",
    "\tAND ws.utm_source = 'gsearch'\n",
    "GROUP BY 1,2;\n",
    "'''\n",
    "\n",
    "engine.execute(query).fetchall()"
   ]
  },
  {
   "cell_type": "code",
   "execution_count": 6,
   "metadata": {},
   "outputs": [
    {
     "data": {
      "text/html": [
       "<div>\n",
       "<style scoped>\n",
       "    .dataframe tbody tr th:only-of-type {\n",
       "        vertical-align: middle;\n",
       "    }\n",
       "\n",
       "    .dataframe tbody tr th {\n",
       "        vertical-align: top;\n",
       "    }\n",
       "\n",
       "    .dataframe thead th {\n",
       "        text-align: right;\n",
       "    }\n",
       "</style>\n",
       "<table border=\"1\" class=\"dataframe\">\n",
       "  <thead>\n",
       "    <tr style=\"text-align: right;\">\n",
       "      <th></th>\n",
       "      <th>year</th>\n",
       "      <th>month</th>\n",
       "      <th>nonbrand_sessions</th>\n",
       "      <th>nonbrand_orders</th>\n",
       "      <th>brand_sessions</th>\n",
       "      <th>brand_orders</th>\n",
       "    </tr>\n",
       "  </thead>\n",
       "  <tbody>\n",
       "    <tr>\n",
       "      <th>0</th>\n",
       "      <td>2012</td>\n",
       "      <td>3</td>\n",
       "      <td>1852</td>\n",
       "      <td>60</td>\n",
       "      <td>8</td>\n",
       "      <td>0</td>\n",
       "    </tr>\n",
       "    <tr>\n",
       "      <th>1</th>\n",
       "      <td>2012</td>\n",
       "      <td>4</td>\n",
       "      <td>3509</td>\n",
       "      <td>86</td>\n",
       "      <td>65</td>\n",
       "      <td>6</td>\n",
       "    </tr>\n",
       "    <tr>\n",
       "      <th>2</th>\n",
       "      <td>2012</td>\n",
       "      <td>5</td>\n",
       "      <td>3295</td>\n",
       "      <td>91</td>\n",
       "      <td>115</td>\n",
       "      <td>6</td>\n",
       "    </tr>\n",
       "    <tr>\n",
       "      <th>3</th>\n",
       "      <td>2012</td>\n",
       "      <td>6</td>\n",
       "      <td>3439</td>\n",
       "      <td>114</td>\n",
       "      <td>139</td>\n",
       "      <td>7</td>\n",
       "    </tr>\n",
       "    <tr>\n",
       "      <th>4</th>\n",
       "      <td>2012</td>\n",
       "      <td>7</td>\n",
       "      <td>3660</td>\n",
       "      <td>136</td>\n",
       "      <td>151</td>\n",
       "      <td>9</td>\n",
       "    </tr>\n",
       "    <tr>\n",
       "      <th>5</th>\n",
       "      <td>2012</td>\n",
       "      <td>8</td>\n",
       "      <td>4673</td>\n",
       "      <td>174</td>\n",
       "      <td>204</td>\n",
       "      <td>10</td>\n",
       "    </tr>\n",
       "    <tr>\n",
       "      <th>6</th>\n",
       "      <td>2012</td>\n",
       "      <td>9</td>\n",
       "      <td>4227</td>\n",
       "      <td>172</td>\n",
       "      <td>264</td>\n",
       "      <td>16</td>\n",
       "    </tr>\n",
       "    <tr>\n",
       "      <th>7</th>\n",
       "      <td>2012</td>\n",
       "      <td>10</td>\n",
       "      <td>5197</td>\n",
       "      <td>219</td>\n",
       "      <td>337</td>\n",
       "      <td>15</td>\n",
       "    </tr>\n",
       "    <tr>\n",
       "      <th>8</th>\n",
       "      <td>2012</td>\n",
       "      <td>11</td>\n",
       "      <td>8506</td>\n",
       "      <td>356</td>\n",
       "      <td>383</td>\n",
       "      <td>17</td>\n",
       "    </tr>\n",
       "  </tbody>\n",
       "</table>\n",
       "</div>"
      ],
      "text/plain": [
       "   year  month  nonbrand_sessions  nonbrand_orders  brand_sessions  \\\n",
       "0  2012      3               1852               60               8   \n",
       "1  2012      4               3509               86              65   \n",
       "2  2012      5               3295               91             115   \n",
       "3  2012      6               3439              114             139   \n",
       "4  2012      7               3660              136             151   \n",
       "5  2012      8               4673              174             204   \n",
       "6  2012      9               4227              172             264   \n",
       "7  2012     10               5197              219             337   \n",
       "8  2012     11               8506              356             383   \n",
       "\n",
       "   brand_orders  \n",
       "0             0  \n",
       "1             6  \n",
       "2             6  \n",
       "3             7  \n",
       "4             9  \n",
       "5            10  \n",
       "6            16  \n",
       "7            15  \n",
       "8            17  "
      ]
     },
     "execution_count": 6,
     "metadata": {},
     "output_type": "execute_result"
    }
   ],
   "source": [
    "df = pd.read_sql(query, engine)\n",
    "df"
   ]
  },
  {
   "cell_type": "markdown",
   "metadata": {},
   "source": [
    "3. While we’re on Gsearch, could you dive into nonbrand, and pull monthly sessions and orders split by device type? \n",
    "I want to flex our analytical muscles a little and show the board we really know our traffic sources. "
   ]
  },
  {
   "cell_type": "code",
   "execution_count": 7,
   "metadata": {},
   "outputs": [
    {
     "data": {
      "text/plain": [
       "[(2012, 3, 1128, 50, 724, 10),\n",
       " (2012, 4, 2139, 75, 1370, 11),\n",
       " (2012, 5, 2276, 83, 1019, 8),\n",
       " (2012, 6, 2673, 106, 766, 8),\n",
       " (2012, 7, 2774, 122, 886, 14),\n",
       " (2012, 8, 3515, 165, 1158, 9),\n",
       " (2012, 9, 3171, 155, 1056, 17),\n",
       " (2012, 10, 3934, 201, 1263, 18),\n",
       " (2012, 11, 6457, 323, 2049, 33)]"
      ]
     },
     "execution_count": 7,
     "metadata": {},
     "output_type": "execute_result"
    }
   ],
   "source": [
    "query = '''\n",
    "SELECT\n",
    "\tYEAR(ws.created_at) AS year, \n",
    "    MONTH(ws.created_at) AS month, \n",
    "    COUNT(DISTINCT CASE WHEN device_type = 'desktop' \n",
    "                    THEN ws.website_session_id \n",
    "                    ELSE NULL END) AS desktop_sessions, \n",
    "    COUNT(DISTINCT CASE WHEN device_type = 'desktop' THEN \n",
    "                    o.order_id \n",
    "                    ELSE NULL END) AS desktop_orders,\n",
    "    COUNT(DISTINCT CASE WHEN device_type = 'mobile' \n",
    "                    THEN ws.website_session_id \n",
    "                    ELSE NULL END) AS mobile_sessions, \n",
    "    COUNT(DISTINCT CASE WHEN device_type = 'mobile' \n",
    "                    THEN o.order_id \n",
    "                    ELSE NULL END) AS mobile_orders\n",
    "FROM website_sessions ws\n",
    "\tLEFT JOIN orders o \n",
    "\t\tON o.website_session_id = ws.website_session_id\n",
    "WHERE ws.created_at < '2012-11-27'\n",
    "\tAND ws.utm_source = 'gsearch'\n",
    "    AND ws.utm_campaign = 'nonbrand'\n",
    "GROUP BY 1,2;\n",
    "'''\n",
    "\n",
    "engine.execute(query).fetchall()"
   ]
  },
  {
   "cell_type": "code",
   "execution_count": 8,
   "metadata": {},
   "outputs": [
    {
     "name": "stdout",
     "output_type": "stream",
     "text": [
      "   year  month  desktop_sessions  desktop_orders  mobile_sessions  \\\n",
      "0  2012      3              1128              50              724   \n",
      "1  2012      4              2139              75             1370   \n",
      "2  2012      5              2276              83             1019   \n",
      "3  2012      6              2673             106              766   \n",
      "4  2012      7              2774             122              886   \n",
      "5  2012      8              3515             165             1158   \n",
      "6  2012      9              3171             155             1056   \n",
      "7  2012     10              3934             201             1263   \n",
      "8  2012     11              6457             323             2049   \n",
      "\n",
      "   mobile_orders  \n",
      "0             10  \n",
      "1             11  \n",
      "2              8  \n",
      "3              8  \n",
      "4             14  \n",
      "5              9  \n",
      "6             17  \n",
      "7             18  \n",
      "8             33  \n"
     ]
    }
   ],
   "source": [
    "df = pd.read_sql(query, engine)\n",
    "print(df)"
   ]
  },
  {
   "cell_type": "markdown",
   "metadata": {},
   "source": [
    "4.\tI’m worried that one of our more pessimistic board members may be concerned about the large % of traffic from Gsearch. \n",
    "Can you pull monthly trends for Gsearch, alongside monthly trends for each of our other channels?"
   ]
  },
  {
   "cell_type": "code",
   "execution_count": 9,
   "metadata": {},
   "outputs": [],
   "source": [
    "# first, finding the various utm sources and referers to see the traffic we're getting"
   ]
  },
  {
   "cell_type": "code",
   "execution_count": 10,
   "metadata": {},
   "outputs": [
    {
     "data": {
      "text/plain": [
       "[('gsearch', 'nonbrand', 'https://www.gsearch.com'),\n",
       " (None, None, None),\n",
       " ('gsearch', 'brand', 'https://www.gsearch.com'),\n",
       " (None, None, 'https://www.gsearch.com'),\n",
       " ('bsearch', 'brand', 'https://www.bsearch.com'),\n",
       " (None, None, 'https://www.bsearch.com'),\n",
       " ('bsearch', 'nonbrand', 'https://www.bsearch.com')]"
      ]
     },
     "execution_count": 10,
     "metadata": {},
     "output_type": "execute_result"
    }
   ],
   "source": [
    "query = '''\n",
    "SELECT DISTINCT \n",
    "\tutm_source,\n",
    "    utm_campaign, \n",
    "    http_referer\n",
    "FROM website_sessions\n",
    "WHERE website_sessions.created_at < '2012-11-27';\n",
    "'''\n",
    "\n",
    "engine.execute(query).fetchall()"
   ]
  },
  {
   "cell_type": "code",
   "execution_count": 11,
   "metadata": {},
   "outputs": [
    {
     "name": "stdout",
     "output_type": "stream",
     "text": [
      "  utm_source utm_campaign             http_referer\n",
      "0    gsearch     nonbrand  https://www.gsearch.com\n",
      "1       None         None                     None\n",
      "2    gsearch        brand  https://www.gsearch.com\n",
      "3       None         None  https://www.gsearch.com\n",
      "4    bsearch        brand  https://www.bsearch.com\n",
      "5       None         None  https://www.bsearch.com\n",
      "6    bsearch     nonbrand  https://www.bsearch.com\n"
     ]
    }
   ],
   "source": [
    "df = pd.read_sql(query, engine)\n",
    "print(df)"
   ]
  },
  {
   "cell_type": "code",
   "execution_count": 12,
   "metadata": {},
   "outputs": [
    {
     "data": {
      "text/plain": [
       "[(2012, 3, 1860, 2, 8, 9),\n",
       " (2012, 4, 3574, 11, 78, 71),\n",
       " (2012, 5, 3410, 25, 150, 151),\n",
       " (2012, 6, 3578, 25, 190, 170),\n",
       " (2012, 7, 3811, 44, 207, 187),\n",
       " (2012, 8, 4877, 705, 265, 250),\n",
       " (2012, 9, 4491, 1439, 331, 285),\n",
       " (2012, 10, 5534, 1781, 428, 440),\n",
       " (2012, 11, 8889, 2840, 536, 485)]"
      ]
     },
     "execution_count": 12,
     "metadata": {},
     "output_type": "execute_result"
    }
   ],
   "source": [
    "query = '''\n",
    "SELECT\n",
    "\tYEAR(ws.created_at) AS year, \n",
    "    MONTH(ws.created_at) AS month, \n",
    "    COUNT(DISTINCT CASE WHEN utm_source = 'gsearch' \n",
    "                    THEN ws.website_session_id \n",
    "                    ELSE NULL END) AS gsearch_paid_sessions,\n",
    "    COUNT(DISTINCT CASE WHEN utm_source = 'bsearch' \n",
    "                    THEN ws.website_session_id \n",
    "                    ELSE NULL END) AS bsearch_paid_sessions,\n",
    "    COUNT(DISTINCT CASE WHEN utm_source IS NULL AND http_referer IS NOT NULL \n",
    "                    THEN ws.website_session_id \n",
    "                    ELSE NULL END) AS organic_search_sessions,\n",
    "    COUNT(DISTINCT CASE WHEN utm_source IS NULL AND http_referer IS NULL \n",
    "                    THEN ws.website_session_id \n",
    "                    ELSE NULL END) AS direct_type_in_sessions\n",
    "FROM website_sessions ws\n",
    "\tLEFT JOIN orders o \n",
    "\t\tON o.website_session_id = ws.website_session_id\n",
    "WHERE ws.created_at < '2012-11-27'\n",
    "GROUP BY 1,2;\n",
    "'''\n",
    "\n",
    "engine.execute(query).fetchall()"
   ]
  },
  {
   "cell_type": "code",
   "execution_count": 13,
   "metadata": {},
   "outputs": [
    {
     "data": {
      "text/html": [
       "<div>\n",
       "<style scoped>\n",
       "    .dataframe tbody tr th:only-of-type {\n",
       "        vertical-align: middle;\n",
       "    }\n",
       "\n",
       "    .dataframe tbody tr th {\n",
       "        vertical-align: top;\n",
       "    }\n",
       "\n",
       "    .dataframe thead th {\n",
       "        text-align: right;\n",
       "    }\n",
       "</style>\n",
       "<table border=\"1\" class=\"dataframe\">\n",
       "  <thead>\n",
       "    <tr style=\"text-align: right;\">\n",
       "      <th></th>\n",
       "      <th>year</th>\n",
       "      <th>month</th>\n",
       "      <th>gsearch_paid_sessions</th>\n",
       "      <th>bsearch_paid_sessions</th>\n",
       "      <th>organic_search_sessions</th>\n",
       "      <th>direct_type_in_sessions</th>\n",
       "    </tr>\n",
       "  </thead>\n",
       "  <tbody>\n",
       "    <tr>\n",
       "      <th>0</th>\n",
       "      <td>2012</td>\n",
       "      <td>3</td>\n",
       "      <td>1860</td>\n",
       "      <td>2</td>\n",
       "      <td>8</td>\n",
       "      <td>9</td>\n",
       "    </tr>\n",
       "    <tr>\n",
       "      <th>1</th>\n",
       "      <td>2012</td>\n",
       "      <td>4</td>\n",
       "      <td>3574</td>\n",
       "      <td>11</td>\n",
       "      <td>78</td>\n",
       "      <td>71</td>\n",
       "    </tr>\n",
       "    <tr>\n",
       "      <th>2</th>\n",
       "      <td>2012</td>\n",
       "      <td>5</td>\n",
       "      <td>3410</td>\n",
       "      <td>25</td>\n",
       "      <td>150</td>\n",
       "      <td>151</td>\n",
       "    </tr>\n",
       "    <tr>\n",
       "      <th>3</th>\n",
       "      <td>2012</td>\n",
       "      <td>6</td>\n",
       "      <td>3578</td>\n",
       "      <td>25</td>\n",
       "      <td>190</td>\n",
       "      <td>170</td>\n",
       "    </tr>\n",
       "    <tr>\n",
       "      <th>4</th>\n",
       "      <td>2012</td>\n",
       "      <td>7</td>\n",
       "      <td>3811</td>\n",
       "      <td>44</td>\n",
       "      <td>207</td>\n",
       "      <td>187</td>\n",
       "    </tr>\n",
       "    <tr>\n",
       "      <th>5</th>\n",
       "      <td>2012</td>\n",
       "      <td>8</td>\n",
       "      <td>4877</td>\n",
       "      <td>705</td>\n",
       "      <td>265</td>\n",
       "      <td>250</td>\n",
       "    </tr>\n",
       "    <tr>\n",
       "      <th>6</th>\n",
       "      <td>2012</td>\n",
       "      <td>9</td>\n",
       "      <td>4491</td>\n",
       "      <td>1439</td>\n",
       "      <td>331</td>\n",
       "      <td>285</td>\n",
       "    </tr>\n",
       "    <tr>\n",
       "      <th>7</th>\n",
       "      <td>2012</td>\n",
       "      <td>10</td>\n",
       "      <td>5534</td>\n",
       "      <td>1781</td>\n",
       "      <td>428</td>\n",
       "      <td>440</td>\n",
       "    </tr>\n",
       "    <tr>\n",
       "      <th>8</th>\n",
       "      <td>2012</td>\n",
       "      <td>11</td>\n",
       "      <td>8889</td>\n",
       "      <td>2840</td>\n",
       "      <td>536</td>\n",
       "      <td>485</td>\n",
       "    </tr>\n",
       "  </tbody>\n",
       "</table>\n",
       "</div>"
      ],
      "text/plain": [
       "   year  month  gsearch_paid_sessions  bsearch_paid_sessions  \\\n",
       "0  2012      3                   1860                      2   \n",
       "1  2012      4                   3574                     11   \n",
       "2  2012      5                   3410                     25   \n",
       "3  2012      6                   3578                     25   \n",
       "4  2012      7                   3811                     44   \n",
       "5  2012      8                   4877                    705   \n",
       "6  2012      9                   4491                   1439   \n",
       "7  2012     10                   5534                   1781   \n",
       "8  2012     11                   8889                   2840   \n",
       "\n",
       "   organic_search_sessions  direct_type_in_sessions  \n",
       "0                        8                        9  \n",
       "1                       78                       71  \n",
       "2                      150                      151  \n",
       "3                      190                      170  \n",
       "4                      207                      187  \n",
       "5                      265                      250  \n",
       "6                      331                      285  \n",
       "7                      428                      440  \n",
       "8                      536                      485  "
      ]
     },
     "execution_count": 13,
     "metadata": {},
     "output_type": "execute_result"
    }
   ],
   "source": [
    "df = pd.read_sql(query, engine)\n",
    "df"
   ]
  },
  {
   "cell_type": "markdown",
   "metadata": {},
   "source": [
    "5.\tI’d like to tell the story of our website performance improvements over the course of the first 8 months. \n",
    "Could you pull session to order conversion rates, by month? "
   ]
  },
  {
   "cell_type": "code",
   "execution_count": 14,
   "metadata": {},
   "outputs": [
    {
     "data": {
      "text/plain": [
       "[(2012, 3, 1879, 60, Decimal('0.0319')),\n",
       " (2012, 4, 3734, 99, Decimal('0.0265')),\n",
       " (2012, 5, 3736, 108, Decimal('0.0289')),\n",
       " (2012, 6, 3963, 140, Decimal('0.0353')),\n",
       " (2012, 7, 4249, 169, Decimal('0.0398')),\n",
       " (2012, 8, 6097, 228, Decimal('0.0374')),\n",
       " (2012, 9, 6546, 287, Decimal('0.0438')),\n",
       " (2012, 10, 8183, 371, Decimal('0.0453')),\n",
       " (2012, 11, 12750, 561, Decimal('0.0440'))]"
      ]
     },
     "execution_count": 14,
     "metadata": {},
     "output_type": "execute_result"
    }
   ],
   "source": [
    "query = '''\n",
    "SELECT\n",
    "\tYEAR(ws.created_at) AS year, \n",
    "    MONTH(ws.created_at) AS month, \n",
    "    COUNT(DISTINCT ws.website_session_id) AS sessions, \n",
    "    COUNT(DISTINCT o.order_id) AS orders, \n",
    "    COUNT(DISTINCT o.order_id) / COUNT(DISTINCT ws.website_session_id) AS conversion_rate    \n",
    "FROM website_sessions ws\n",
    "\tLEFT JOIN orders o\n",
    "\t\tON o.website_session_id = ws.website_session_id\n",
    "WHERE ws.created_at < '2012-11-27'\n",
    "GROUP BY 1,2;\n",
    "'''\n",
    "\n",
    "engine.execute(query).fetchall()"
   ]
  },
  {
   "cell_type": "code",
   "execution_count": 15,
   "metadata": {},
   "outputs": [
    {
     "data": {
      "text/html": [
       "<div>\n",
       "<style scoped>\n",
       "    .dataframe tbody tr th:only-of-type {\n",
       "        vertical-align: middle;\n",
       "    }\n",
       "\n",
       "    .dataframe tbody tr th {\n",
       "        vertical-align: top;\n",
       "    }\n",
       "\n",
       "    .dataframe thead th {\n",
       "        text-align: right;\n",
       "    }\n",
       "</style>\n",
       "<table border=\"1\" class=\"dataframe\">\n",
       "  <thead>\n",
       "    <tr style=\"text-align: right;\">\n",
       "      <th></th>\n",
       "      <th>year</th>\n",
       "      <th>month</th>\n",
       "      <th>sessions</th>\n",
       "      <th>orders</th>\n",
       "      <th>conversion_rate</th>\n",
       "    </tr>\n",
       "  </thead>\n",
       "  <tbody>\n",
       "    <tr>\n",
       "      <th>0</th>\n",
       "      <td>2012</td>\n",
       "      <td>3</td>\n",
       "      <td>1879</td>\n",
       "      <td>60</td>\n",
       "      <td>0.0319</td>\n",
       "    </tr>\n",
       "    <tr>\n",
       "      <th>1</th>\n",
       "      <td>2012</td>\n",
       "      <td>4</td>\n",
       "      <td>3734</td>\n",
       "      <td>99</td>\n",
       "      <td>0.0265</td>\n",
       "    </tr>\n",
       "    <tr>\n",
       "      <th>2</th>\n",
       "      <td>2012</td>\n",
       "      <td>5</td>\n",
       "      <td>3736</td>\n",
       "      <td>108</td>\n",
       "      <td>0.0289</td>\n",
       "    </tr>\n",
       "    <tr>\n",
       "      <th>3</th>\n",
       "      <td>2012</td>\n",
       "      <td>6</td>\n",
       "      <td>3963</td>\n",
       "      <td>140</td>\n",
       "      <td>0.0353</td>\n",
       "    </tr>\n",
       "    <tr>\n",
       "      <th>4</th>\n",
       "      <td>2012</td>\n",
       "      <td>7</td>\n",
       "      <td>4249</td>\n",
       "      <td>169</td>\n",
       "      <td>0.0398</td>\n",
       "    </tr>\n",
       "    <tr>\n",
       "      <th>5</th>\n",
       "      <td>2012</td>\n",
       "      <td>8</td>\n",
       "      <td>6097</td>\n",
       "      <td>228</td>\n",
       "      <td>0.0374</td>\n",
       "    </tr>\n",
       "    <tr>\n",
       "      <th>6</th>\n",
       "      <td>2012</td>\n",
       "      <td>9</td>\n",
       "      <td>6546</td>\n",
       "      <td>287</td>\n",
       "      <td>0.0438</td>\n",
       "    </tr>\n",
       "    <tr>\n",
       "      <th>7</th>\n",
       "      <td>2012</td>\n",
       "      <td>10</td>\n",
       "      <td>8183</td>\n",
       "      <td>371</td>\n",
       "      <td>0.0453</td>\n",
       "    </tr>\n",
       "    <tr>\n",
       "      <th>8</th>\n",
       "      <td>2012</td>\n",
       "      <td>11</td>\n",
       "      <td>12750</td>\n",
       "      <td>561</td>\n",
       "      <td>0.0440</td>\n",
       "    </tr>\n",
       "  </tbody>\n",
       "</table>\n",
       "</div>"
      ],
      "text/plain": [
       "   year  month  sessions  orders  conversion_rate\n",
       "0  2012      3      1879      60           0.0319\n",
       "1  2012      4      3734      99           0.0265\n",
       "2  2012      5      3736     108           0.0289\n",
       "3  2012      6      3963     140           0.0353\n",
       "4  2012      7      4249     169           0.0398\n",
       "5  2012      8      6097     228           0.0374\n",
       "6  2012      9      6546     287           0.0438\n",
       "7  2012     10      8183     371           0.0453\n",
       "8  2012     11     12750     561           0.0440"
      ]
     },
     "execution_count": 15,
     "metadata": {},
     "output_type": "execute_result"
    }
   ],
   "source": [
    "df = pd.read_sql(query, engine)\n",
    "df"
   ]
  },
  {
   "cell_type": "markdown",
   "metadata": {},
   "source": [
    "6.\tFor the gsearch lander test, please estimate the revenue that test earned us \n",
    "(Hint: Look at the increase in CVR from the test (Jun 19 – Jul 28), and use \n",
    "nonbrand sessions and revenue since then to calculate incremental value)"
   ]
  },
  {
   "cell_type": "code",
   "execution_count": 16,
   "metadata": {},
   "outputs": [
    {
     "data": {
      "text/plain": [
       "[(23504,)]"
      ]
     },
     "execution_count": 16,
     "metadata": {},
     "output_type": "execute_result"
    }
   ],
   "source": [
    "query = '''\n",
    "SELECT\n",
    "\tMIN(website_pageview_id) AS first_test_pv\n",
    "FROM website_pageviews\n",
    "WHERE pageview_url = '/lander-1';\n",
    "'''\n",
    "\n",
    "engine.execute(query).fetchall()"
   ]
  },
  {
   "cell_type": "code",
   "execution_count": 19,
   "metadata": {},
   "outputs": [],
   "source": [
    "def first_test_pageviews():\n",
    "    try:\n",
    "        query1 = '''\n",
    "        -- for this step, we'll find the first pageview id \n",
    "\n",
    "        CREATE TEMPORARY TABLE first_test_pageviews\n",
    "        SELECT\n",
    "            wp.website_session_id, \n",
    "            MIN(wp.website_pageview_id) AS min_pageview_id\n",
    "        FROM website_pageviews wp\n",
    "            INNER JOIN website_sessions ws\n",
    "                ON ws.website_session_id = wp.website_session_id\n",
    "                AND ws.created_at < '2012-07-28' -- prescribed by the assignment\n",
    "                AND wp.website_pageview_id >= 23504 -- first page_view\n",
    "                AND utm_source = 'gsearch'\n",
    "                AND utm_campaign = 'nonbrand'\n",
    "        GROUP BY \n",
    "            wp.website_session_id;\n",
    "'''\n",
    "        engine.execute(query1)\n",
    "    except:\n",
    "        print('error')\n",
    "\n",
    "first_test_pageviews()"
   ]
  },
  {
   "cell_type": "code",
   "execution_count": 21,
   "metadata": {},
   "outputs": [
    {
     "name": "stdout",
     "output_type": "stream",
     "text": [
      "      website_session_id  min_pageview_id\n",
      "0                  11683            23504\n",
      "1                  11684            23505\n",
      "2                  11685            23506\n",
      "3                  11686            23507\n",
      "4                  11687            23509\n",
      "...                  ...              ...\n",
      "4572               16987            34991\n",
      "4573               16988            34992\n",
      "4574               16989            34996\n",
      "4575               16990            34997\n",
      "4576               16991            35000\n",
      "\n",
      "[4577 rows x 2 columns]\n"
     ]
    }
   ],
   "source": [
    "query2 = '''SELECT * FROM first_test_pageviews;'''\n",
    "df = pd.read_sql(query2, engine)\n",
    "print(df)"
   ]
  },
  {
   "cell_type": "code",
   "execution_count": 22,
   "metadata": {},
   "outputs": [],
   "source": [
    "def nonbrand_test_sessions_w_landing_pages():\n",
    "    try:\n",
    "        query3 = '''\n",
    "        \n",
    "        -- next, we'll bring in the landing page to each session, like last time, but restricting to home or lander-1 this time\n",
    "        CREATE TEMPORARY TABLE nonbrand_test_sessions_w_landing_pages\n",
    "        SELECT \n",
    "            ftp.website_session_id, \n",
    "            wp.pageview_url AS landing_page\n",
    "        FROM first_test_pageviews ftp\n",
    "            LEFT JOIN website_pageviews wp\n",
    "                ON wp.website_pageview_id = ftp.min_pageview_id\n",
    "        WHERE wp.pageview_url IN ('/home','/lander-1'); \n",
    "        '''\n",
    "        engine.execute(query3)\n",
    "    except:\n",
    "        print('error')\n",
    "\n",
    "nonbrand_test_sessions_w_landing_pages()"
   ]
  },
  {
   "cell_type": "code",
   "execution_count": 23,
   "metadata": {},
   "outputs": [
    {
     "name": "stdout",
     "output_type": "stream",
     "text": [
      "      website_session_id landing_page\n",
      "0                  11683    /lander-1\n",
      "1                  11684        /home\n",
      "2                  11685    /lander-1\n",
      "3                  11686    /lander-1\n",
      "4                  11687        /home\n",
      "...                  ...          ...\n",
      "4572               16987    /lander-1\n",
      "4573               16988    /lander-1\n",
      "4574               16989    /lander-1\n",
      "4575               16990        /home\n",
      "4576               16991    /lander-1\n",
      "\n",
      "[4577 rows x 2 columns]\n"
     ]
    }
   ],
   "source": [
    "query4 = '''SELECT * FROM nonbrand_test_sessions_w_landing_pages;'''\n",
    "df = pd.read_sql(query4, engine)\n",
    "print(df)"
   ]
  },
  {
   "cell_type": "code",
   "execution_count": 24,
   "metadata": {},
   "outputs": [],
   "source": [
    "def nonbrand_test_sessions_w_orders():\n",
    "    try:\n",
    "        query5 = '''\n",
    "        -- then we make a table to bring in orders\n",
    "        CREATE TEMPORARY TABLE nonbrand_test_sessions_w_orders\n",
    "        SELECT\n",
    "            nts.website_session_id, \n",
    "            nts.landing_page, \n",
    "            o.order_id AS order_id\n",
    "\n",
    "        FROM nonbrand_test_sessions_w_landing_pages nts\n",
    "        LEFT JOIN orders o\n",
    "            ON o.website_session_id = nts.website_session_id\n",
    "        ;\n",
    "        '''\n",
    "        engine.execute(query5)\n",
    "    except:\n",
    "        print('error')\n",
    "\n",
    "nonbrand_test_sessions_w_orders()"
   ]
  },
  {
   "cell_type": "code",
   "execution_count": 25,
   "metadata": {},
   "outputs": [
    {
     "name": "stdout",
     "output_type": "stream",
     "text": [
      "      website_session_id landing_page  order_id\n",
      "0                  11683    /lander-1       NaN\n",
      "1                  11684        /home       NaN\n",
      "2                  11685    /lander-1       NaN\n",
      "3                  11686    /lander-1       NaN\n",
      "4                  11687        /home       NaN\n",
      "...                  ...          ...       ...\n",
      "4572               16987    /lander-1       NaN\n",
      "4573               16988    /lander-1       NaN\n",
      "4574               16989    /lander-1       NaN\n",
      "4575               16990        /home       NaN\n",
      "4576               16991    /lander-1       NaN\n",
      "\n",
      "[4577 rows x 3 columns]\n"
     ]
    }
   ],
   "source": [
    "query6 = '''SELECT * FROM nonbrand_test_sessions_w_orders;'''\n",
    "df = pd.read_sql(query6, engine)\n",
    "print(df)"
   ]
  },
  {
   "cell_type": "code",
   "execution_count": 26,
   "metadata": {},
   "outputs": [
    {
     "name": "stdout",
     "output_type": "stream",
     "text": [
      "  landing_page  sessions  orders  conversion_rate\n",
      "0        /home      2261      72           0.0318\n",
      "1    /lander-1      2316      94           0.0406\n"
     ]
    }
   ],
   "source": [
    "query7 = '''\n",
    "SELECT\n",
    "\tlanding_page, \n",
    "    COUNT(DISTINCT website_session_id) AS sessions, \n",
    "    COUNT(DISTINCT order_id) AS orders,\n",
    "    COUNT(DISTINCT order_id) / COUNT(DISTINCT website_session_id) AS conversion_rate\n",
    "FROM nonbrand_test_sessions_w_orders ntso\n",
    "GROUP BY 1;\n",
    "'''\n",
    "engine.execute(query7).fetchall()\n",
    "df = pd.read_sql(query7, engine)\n",
    "print(df)"
   ]
  },
  {
   "cell_type": "code",
   "execution_count": 28,
   "metadata": {},
   "outputs": [
    {
     "name": "stdout",
     "output_type": "stream",
     "text": [
      "   most_recent_gsearch_nonbrand_home_pageview\n",
      "0                                       17145\n"
     ]
    }
   ],
   "source": [
    "# finding the most reent pageview for gsearch nonbrand where the traffic was sent to /home\n",
    "\n",
    "query8 = '''\n",
    "SELECT \n",
    "\tMAX(ws.website_session_id) AS most_recent_gsearch_nonbrand_home_pageview \n",
    "FROM website_sessions ws\n",
    "\tLEFT JOIN website_pageviews wp\n",
    "\t\tON wp.website_session_id = ws.website_session_id\n",
    "WHERE utm_source = 'gsearch'\n",
    "\tAND utm_campaign = 'nonbrand'\n",
    "    AND pageview_url = '/home'\n",
    "    AND ws.created_at < '2012-11-27';\n",
    "    '''\n",
    "engine.execute(query8).fetchall()\n",
    "df = pd.read_sql(query8, engine)\n",
    "print(df)"
   ]
  },
  {
   "cell_type": "code",
   "execution_count": 29,
   "metadata": {},
   "outputs": [
    {
     "name": "stdout",
     "output_type": "stream",
     "text": [
      "   sessions_since_test\n",
      "0                22972\n"
     ]
    }
   ],
   "source": [
    "query9 = '''\n",
    "SELECT \n",
    "\tCOUNT(website_session_id) AS sessions_since_test\n",
    "FROM website_sessions ws\n",
    "WHERE created_at < '2012-11-27'\n",
    "\tAND website_session_id > 17145 -- last /home session\n",
    "\tAND utm_source = 'gsearch'\n",
    "\tAND utm_campaign = 'nonbrand'\n",
    ";\n",
    "'''\n",
    "engine.execute(query9).fetchall()\n",
    "df = pd.read_sql(query9, engine)\n",
    "print(df)"
   ]
  },
  {
   "cell_type": "markdown",
   "metadata": {},
   "source": [
    "7.\tFor the landing page test you analyzed previously, it would be great to show a full conversion funnel \n",
    "from each of the two pages to orders. You can use the same time period you analyzed last time (Jun 19 – Jul 28)."
   ]
  },
  {
   "cell_type": "code",
   "execution_count": null,
   "metadata": {},
   "outputs": [],
   "source": []
  }
 ],
 "metadata": {
  "interpreter": {
   "hash": "aee8b7b246df8f9039afb4144a1f6fd8d2ca17a180786b69acc140d282b71a49"
  },
  "kernelspec": {
   "display_name": "Python 3.10.2 64-bit",
   "language": "python",
   "name": "python3"
  },
  "language_info": {
   "codemirror_mode": {
    "name": "ipython",
    "version": 3
   },
   "file_extension": ".py",
   "mimetype": "text/x-python",
   "name": "python",
   "nbconvert_exporter": "python",
   "pygments_lexer": "ipython3",
   "version": "3.10.2"
  },
  "orig_nbformat": 4
 },
 "nbformat": 4,
 "nbformat_minor": 2
}
